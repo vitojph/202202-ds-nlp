{
 "cells": [
  {
   "cell_type": "markdown",
   "metadata": {},
   "source": [
    "# KSchool - Master Online Data Science \n",
    "\n",
    "## Técnicas Avanzadas de Inteligencia Artificial\n",
    "\n",
    "### Módulo 4: Procesamiento del Lenguaje Natural - Actividad de evaluación 1\n",
    "\n",
    "# Estructura de la actividad\n",
    "\n",
    "- [Descripción de la actividad](#descripcion)\n",
    "- [Conjunto de datos](#datos)\n",
    "- [Criterios de evaluación](#evaluacion)\n",
    "- [Formato y fecha de entrega](#entrega)\n",
    "- [Ejercicio 1: Reconocimiento de Entidades](#ejercicio1)\n",
    "- [Ejercicio 2: Análisis morfo-sintáctico](#ejercicio2)\n",
    "- [Ejercicio 3: Análisis de opinión](#ejercicio3)\n",
    "- [Ejercicios opcionales](#opcionales)\n"
   ]
  },
  {
   "cell_type": "markdown",
   "metadata": {},
   "source": [
    "<a id=\"descripcion\"></a>\n",
    "# Descripción de la actividad\n",
    "\n",
    "En este primer ejercicio práctico del módulo tendrás que demostrar que eres capaz de utilizar distintas librerías de Procesamiento del Lenguaje Natural para aplicar análisis morfo-sintáctico, reconocimiento de entidades y análisis de opinión sobre una colección de mensajes de Twitter.\n"
   ]
  },
  {
   "cell_type": "markdown",
   "metadata": {},
   "source": [
    "<a id=\"datos\"></a>\n",
    "# Conjunto de datos\n",
    "\n",
    "El [fichero `twitter-superbowl.tsv.gz`](twitter-superbowl.tsv.gz) contiene una muestra, ordenada cronológicamente, de mensajes en inglés que fueron publicados antes, durante y después de un partido de la Superbowl. Este conjunto de datos resulta interesante por distintos motivos:\n",
    "\n",
    "- Los mensajes de una red social son un claro ejemplo de lengua real espontánea, no formal, expresada en formato escrito pero con características típicas de la lengua oral.\n",
    "\n",
    "- Los mensajes del dataset tienen en común que contienen el hashtag `#superbowl`. La mayoría hablan sobre los partidos, pero en general tocan temas muy heterogéneos. Encontrarás mensajes de ánimos a los equipos y de admiración a los jugadores, pero también ataques personales; comentarios sobre los lances del juego, jugadas y el marcador; comentarios sobre el espectáculo del descanso y los artistas que participaron, etc., pero también comentarios sobre _celebrities_, política, actualidad del momento y, por supuesto, spam y mensajes vendiendo cosas que nada tienen que ver con el partido.\n",
    "\n",
    "El fichero está en formato `tsv`, valores separados por tabuladores, y es en realidad una tabla con cuatro columnas separadas por tabuladores, que contiene líneas (una por tweet) con el siguiente formato:\n",
    "\n",
    "    id_del_tweet fecha_y_hora_de_publicación autor_del_tweet texto_del_mensaje\n",
    "\n",
    "La siguientes celda te permite abrir el fichero y cargar los mensajes en una lista de listas llamada `tweets`. "
   ]
  },
  {
   "cell_type": "code",
   "execution_count": null,
   "metadata": {},
   "outputs": [],
   "source": [
    "tweets = []\n",
    "with open(\"twitter-superbowl.tsv\") as f:\n",
    "    for line in f.readlines():\n",
    "        tweets.append(line[:-1].split(\"\\t\"))"
   ]
  },
  {
   "cell_type": "markdown",
   "metadata": {},
   "source": [
    "Fíjate en la estructura de datos de `tweets`. Se trata de una lista de listas con cuatro elementos."
   ]
  },
  {
   "cell_type": "code",
   "execution_count": null,
   "metadata": {},
   "outputs": [],
   "source": [
    "ultimo_tweet = tweets[-1]\n",
    "print(f\"el tweet con id {ultimo_tweet[0]} se publicó con fecha {ultimo_tweet[1]} por el usuario {ultimo_tweet[2]}\")\n",
    "print(f\"el texto del mensaje es: {ultimo_tweet[3]}\")"
   ]
  },
  {
   "cell_type": "markdown",
   "metadata": {},
   "source": [
    "<a id=\"evaluacion\"></a>\n",
    "# Criterios de evaluación\n",
    "\n",
    "Para la evaluación del ejercicio no es suficiente con proporcionar código y que este funcione. Es imprescindible proporcionar respuestas claras, justificar las decisiones tomadas, explicando pros y contras, y demostrar que se entiende en cada momento lo que se está haciendo.\n",
    "\n",
    "Para ello, no dudes en añadir todo el texto que necesites, ya sea como comentarios de código o en celdas Markdown aparte.\n",
    "\n",
    "\n",
    "| Apartado \t| Criterio de evaluación \t| Peso \t|\n",
    "|:-:\t|:-:\t|:-:\t|\n",
    "| Ejercicio 1 \t| la solución es completa y correcta \t| 25% \t|\n",
    "| Ejercicio 2 \t| la solución es completa y correcta \t| 25% \t|\n",
    "| Ejercicio 3 \t| la solución es completa y correcta \t| 25% \t|\n",
    "| Ejercicios opcionales \t|  originalidad y claridad\t| 10% \t|\n",
    "| Entrega general \t| limpieza y claridad de código y respuestas \t| 15% \t|"
   ]
  },
  {
   "cell_type": "markdown",
   "metadata": {},
   "source": [
    "<a id=\"entrega\"></a>\n",
    "# Formato y fecha de entrega\n",
    "\n",
    "El cuaderno resuelto, una vez completado y listo para su entrega, deberá exportarse a formato HTML con el siguiente nombre de fichero: `apellidos-nombre-a11-mod4-1.html`\n",
    "\n",
    "**Fecha de entrega**: TODO"
   ]
  },
  {
   "cell_type": "markdown",
   "metadata": {},
   "source": [
    "<a id=\"ejercicio1\"></a>\n",
    "# Ejercicio 1: Reconocimiento de Entidades\n",
    "\n",
    "En este primer ejercicio vamos a analizar de qué personas, organizaciones y lugares se habla en los mensajes. \n",
    "\n",
    "Elige una de las librerías de PLN que conoces (ojo, aségurate de que la tienes instalada en tu entorno virtual y, si no es así, instálala añadiendo una instrucción `!pip install` en una celda de código) y procesa los tweets para localizar y categorizar entidades nombradas y calcular:\n",
    "\n",
    "- las 10 entidades nombradas más frecuentes\n",
    "- las 3 entidades de tipo persona más frecuentes\n",
    "- los 3 entidades de tipo organización más frecuentes\n",
    "- los 3 entidades de tipo ligar más frecuentes\n"
   ]
  },
  {
   "cell_type": "code",
   "execution_count": null,
   "metadata": {},
   "outputs": [],
   "source": [
    "# escribe tu código aquí\n"
   ]
  },
  {
   "cell_type": "markdown",
   "metadata": {},
   "source": [
    "<a id=\"ejercicio2\"></a>\n",
    "# Ejercicio 2: Análisis morfo-sintáctico\n",
    "\n",
    "Una vez identificadas las entidades que aparecen mencionadas en los mensajes vamos a analizar qué hacen y qué les ocurre. Para ello, tendrás que procesar los mensajes para localizar entidades nombradas funcionando como sujeto de la oración, como objeto directo y como objeto indirecto, y mostrar:\n",
    "\n",
    "- ejemplos de oraciones en los que las 3 entidades de tipo persona realizan acciones: por ejemplo, *Lady Gaga actuó en el espectáculo del descanso*.\n",
    "- ejemplos de oraciones en los que las 3 entidades de tipo organización realizan acciones: por ejemplo, *Los Patriots remontaron al final del partido*.\n"
   ]
  },
  {
   "cell_type": "code",
   "execution_count": null,
   "metadata": {},
   "outputs": [],
   "source": [
    "# escribe tu código aquí\n"
   ]
  },
  {
   "cell_type": "markdown",
   "metadata": {},
   "source": [
    "<a id=\"ejercicio3\"></a>\n",
    "# Ejercicio 3: Análisis de opinión\n",
    "\n",
    "Una vez identificadas las entidades que aparecen mencionadas en los mensajes y el tipo de cosas que hacen o les ocurren, vamos a analizar la polaridad de esos mensajes. Para ello, tendrás que procesar una vez más los mensajes para localizar:\n",
    "\n",
    "- ejemplos de mensajes tanto positivos como negativos asociados a las 3 entidades de tipo persona más frecuentes\n",
    "- ejemplos de mensajes tanto positivos como negativos asociados a las 3 entidades de tipo organización más frecuentes\n",
    "- ejemplos de mensajes tanto positivos como negativos asociados a las 3 entidades de tipo lugar más frecuentes\n"
   ]
  },
  {
   "cell_type": "code",
   "execution_count": null,
   "metadata": {},
   "outputs": [],
   "source": [
    "# escribe tu código aquí\n"
   ]
  },
  {
   "cell_type": "markdown",
   "metadata": {},
   "source": [
    "<a id=\"opcionales\"></a>\n",
    "# Ejercicios opcionales\n",
    "\n",
    "Este ejercicio es completamente abierto y puedes aprovechar el conjunto de datos para hacer otro tipo de análisis, por ejemplo:\n",
    "\n",
    "- calcular distintas estadísticas de la colección: número de tokens, longitud de los mensajes, presencia de hashtags y emojis, etc.\n",
    "- calcular número de menciones a usuarios, grafo de usuarios y menciones, etc.\n",
    "- analizar el eje temporal de los mensajes y comprobar si la polaridad de los mensajes asociados a una entidad varía a lo largo del tiempo"
   ]
  },
  {
   "cell_type": "code",
   "execution_count": null,
   "metadata": {},
   "outputs": [],
   "source": [
    "# escribe tu código aquí\n"
   ]
  }
 ],
 "metadata": {
  "kernelspec": {
   "display_name": "Python 3",
   "language": "python",
   "name": "python3"
  },
  "language_info": {
   "codemirror_mode": {
    "name": "ipython",
    "version": 3
   },
   "file_extension": ".py",
   "mimetype": "text/x-python",
   "name": "python",
   "nbconvert_exporter": "python",
   "pygments_lexer": "ipython3",
   "version": "3.7.3"
  }
 },
 "nbformat": 4,
 "nbformat_minor": 4
}
